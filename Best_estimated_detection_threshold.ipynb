{
 "cells": [
  {
   "cell_type": "code",
   "execution_count": null,
   "metadata": {},
   "outputs": [],
   "source": []
  },
  {
   "cell_type": "code",
   "execution_count": 1,
   "metadata": {
    "tags": []
   },
   "outputs": [],
   "source": [
    "import warnings\n",
    "warnings.filterwarnings(\"ignore\")\n",
    "\n",
    "import matplotlib\n",
    "matplotlib.use('Agg')"
   ]
  },
  {
   "cell_type": "code",
   "execution_count": 2,
   "metadata": {
    "tags": []
   },
   "outputs": [],
   "source": [
    "import xarray as xr\n",
    "import netCDF4\n",
    "import glob\n",
    "import numpy as np\n",
    "import copy \n",
    "from scipy.interpolate import griddata\n",
    "from scipy.interpolate import interp1d\n",
    "from pyproj import Proj\n",
    "import datetime\n",
    "import pandas as pd\n",
    "import geopy.distance\n",
    "import s3fs\n",
    "import netCDF4 as nc\n",
    "import io\n",
    "\n",
    "import matplotlib.pyplot as plt\n",
    "import matplotlib.colors as colors\n",
    "import matplotlib.patches as patches\n",
    "from matplotlib import colors\n",
    "from scipy import interpolate\n",
    "import matplotlib as mpl\n",
    "import matplotlib.gridspec as gridspec\n",
    "from matplotlib.colorbar import Colorbar\n",
    "%matplotlib inline\n"
   ]
  },
  {
   "cell_type": "code",
   "execution_count": null,
   "metadata": {
    "tags": []
   },
   "outputs": [],
   "source": [
    "\n"
   ]
  },
  {
   "cell_type": "code",
   "execution_count": 3,
   "metadata": {
    "tags": []
   },
   "outputs": [],
   "source": [
    "def calculate_mean_bias(y_true, y_pred):\n",
    "    \"\"\"\n",
    "    Calculate the mean bias between the true and predicted values.\n",
    "    \n",
    "    Parameters:\n",
    "    y_true (array-like): Array of true values.\n",
    "    y_pred (array-like): Array of predicted values.\n",
    "    \n",
    "    Returns:\n",
    "    float: The mean bias value.\n",
    "    \"\"\"\n",
    "    bias = np.nanmean(y_pred - y_true)\n",
    "    return bias\n",
    "\n",
    "def calculate_rmse(y_true, y_pred):\n",
    "    \"\"\"\n",
    "    Calculate the Root Mean Squared Error (RMSE) between the true and predicted values.\n",
    "    \n",
    "    Parameters:\n",
    "    y_true (array-like): Array of true values.\n",
    "    y_pred (array-like): Array of predicted values.\n",
    "    \n",
    "    Returns:\n",
    "    float: The RMSE value.\n",
    "    \"\"\"\n",
    "    squared_errors = (y_true - y_pred) ** 2\n",
    "    mean_squared_error = np.nanmean(squared_errors)\n",
    "    rmse = np.sqrt(mean_squared_error)\n",
    "    return rmse\n",
    "\n",
    "\n",
    "def calculate_mae(y_true, y_pred):\n",
    "\n",
    "    mae = np.nanmean(np.abs(y_pred - y_true))\n",
    "    \n",
    "    return mae\n",
    "\n",
    "def input_cf_calculate_rmse_bias(Ceil_hourly_CF,cf_threshold,GOES_hourly_CF_035,GOES_hourly_CF_040,GOES_hourly_CF_045,GOES_hourly_CF_050,GOES_hourly_CF_055,GOES_hourly_CF_060):\n",
    "    \n",
    "\n",
    "    loc_all=np.where( (Ceil_hourly_CF > 0)  & \\\n",
    "                     ( Ceil_hourly_CF> 0  ) & (Ceil_hourly_CF<= cf_threshold ) )\n",
    "    \n",
    "    mean_ceil=round(np.nanmean(Ceil_hourly_CF[loc_all]),3)\n",
    "    mean_035=round(np.nanmean(GOES_hourly_CF_035[loc_all]),3)\n",
    "    mean_040=round(np.nanmean(GOES_hourly_CF_040[loc_all]),3)\n",
    "    mean_045=round(np.nanmean(GOES_hourly_CF_045[loc_all]),3)\n",
    "    mean_050=round(np.nanmean(GOES_hourly_CF_050[loc_all]),3)\n",
    "    mean_055=round(np.nanmean(GOES_hourly_CF_055[loc_all]),3)\n",
    "    mean_060=round(np.nanmean(GOES_hourly_CF_060[loc_all]),3)\n",
    "\n",
    "\n",
    "    rmse_035=round(calculate_rmse(Ceil_hourly_CF[loc_all],GOES_hourly_CF_035[loc_all]),5)\n",
    "    bias_035=round(calculate_mean_bias(Ceil_hourly_CF[loc_all],GOES_hourly_CF_035[loc_all]),3)\n",
    "    mae_035=round(calculate_mae(Ceil_hourly_CF[loc_all],GOES_hourly_CF_035[loc_all]),5)\n",
    "    \n",
    "    \n",
    "    rmse_040=round(calculate_rmse(Ceil_hourly_CF[loc_all],GOES_hourly_CF_040[loc_all]),5)\n",
    "    bias_040=round(calculate_mean_bias(Ceil_hourly_CF[loc_all],GOES_hourly_CF_040[loc_all]),3)\n",
    "    mae_040=round(calculate_mae(Ceil_hourly_CF[loc_all],GOES_hourly_CF_040[loc_all]),5)\n",
    "    \n",
    "    \n",
    "    rmse_045=round(calculate_rmse(Ceil_hourly_CF[loc_all],GOES_hourly_CF_045[loc_all]),5)\n",
    "    bias_045=round(calculate_mean_bias(Ceil_hourly_CF[loc_all],GOES_hourly_CF_045[loc_all]),3)\n",
    "    mae_045=round(calculate_mae(Ceil_hourly_CF[loc_all],GOES_hourly_CF_045[loc_all]),5)\n",
    "    \n",
    "    \n",
    "    rmse_050=round(calculate_rmse(Ceil_hourly_CF[loc_all],GOES_hourly_CF_050[loc_all]),5)\n",
    "    bias_050=round(calculate_mean_bias(Ceil_hourly_CF[loc_all],GOES_hourly_CF_050[loc_all]),3)\n",
    "    mae_050=round(calculate_mae(Ceil_hourly_CF[loc_all],GOES_hourly_CF_050[loc_all]),5)\n",
    "    \n",
    "    \n",
    "    rmse_055=round(calculate_rmse(Ceil_hourly_CF[loc_all],GOES_hourly_CF_055[loc_all]),5)\n",
    "    bias_055=round(calculate_mean_bias(Ceil_hourly_CF[loc_all],GOES_hourly_CF_055[loc_all]),3)\n",
    "    mae_055=round(calculate_mae(Ceil_hourly_CF[loc_all],GOES_hourly_CF_055[loc_all]),5)\n",
    "    \n",
    "    \n",
    "    rmse_060=round(calculate_rmse(Ceil_hourly_CF[loc_all],GOES_hourly_CF_060[loc_all]),5)\n",
    "    bias_060=round(calculate_mean_bias(Ceil_hourly_CF[loc_all],GOES_hourly_CF_060[loc_all]),3)\n",
    "    mae_060=round(calculate_mae(Ceil_hourly_CF[loc_all],GOES_hourly_CF_060[loc_all]),5)\n",
    "\n",
    "\n",
    "    return rmse_035,rmse_040,rmse_045,rmse_050,rmse_055,rmse_060,\\\n",
    "           bias_035,bias_040,bias_045,bias_050,bias_055,bias_060,\\\n",
    "           mae_035,mae_040,mae_045,mae_050,mae_055,mae_060,\\\n",
    "           mean_035,mean_040,mean_045,mean_050,mean_055,mean_060,mean_ceil\n",
    "\n"
   ]
  },
  {
   "cell_type": "code",
   "execution_count": null,
   "metadata": {},
   "outputs": [],
   "source": []
  },
  {
   "cell_type": "code",
   "execution_count": 4,
   "metadata": {
    "tags": []
   },
   "outputs": [
    {
     "data": {
      "text/plain": [
       "((10,),\n",
       " 0.10000000000000002,\n",
       " array([0.05, 0.15, 0.25, 0.35, 0.45, 0.55, 0.65, 0.75, 0.85, 0.95]))"
      ]
     },
     "execution_count": 4,
     "metadata": {},
     "output_type": "execute_result"
    }
   ],
   "source": [
    "cases=34\n",
    "\n",
    "time_LT_5mins=np.arange( (18.-8.)*60./5.+1 )*5./60.+8. # 5 mins\n",
    "half_time_bin_5mins=(time_LT_5mins[1]-time_LT_5mins[0])/2.\n",
    "\n",
    "folder_name=np.array(['1.7_1.0','2.2_1.0','2.0_1.0']) \n",
    "correction_name=np.array(['Corrected','Corrected','Corrected'])\n",
    "\n",
    "bias_goes_pixel=np.array([ 0.09027758,  0.01426901, -0.03432028, -0.0193933 , -0.05350255,-0.03456194, 0,0,0,0])\n",
    "corrections=copy.deepcopy(bias_goes_pixel)\n",
    "\n",
    "time_LT=np.arange( (18.-8.)*60./60.+1 )*60./60.+8. # 60 mins\n",
    "half_time_bin=(time_LT[1]-time_LT[0])/2.\n",
    "\n",
    "# with bin\n",
    "CF_bin=np.arange(10)*0.1+0.05\n",
    "CF_bin_width=CF_bin[1]-CF_bin[0]\n",
    "CF_bin.shape,CF_bin_width,CF_bin"
   ]
  },
  {
   "cell_type": "code",
   "execution_count": 5,
   "metadata": {
    "tags": []
   },
   "outputs": [],
   "source": [
    "sample_045=np.empty((len(folder_name),len(CF_bin)))\n",
    "sample_050=np.empty((len(folder_name),len(CF_bin)))\n",
    "sample_055=np.empty((len(folder_name),len(CF_bin)))\n",
    "sample_040=np.empty((len(folder_name),len(CF_bin)))\n",
    "\n",
    "bias_1km_045=np.empty((len(folder_name),len(CF_bin)))\n",
    "bias_1km_050=np.empty((len(folder_name),len(CF_bin)))\n",
    "bias_1km_055=np.empty((len(folder_name),len(CF_bin)))\n",
    "bias_1km_040=np.empty((len(folder_name),len(CF_bin)))\n",
    "\n",
    "bias_std_error_1km_045=np.empty((len(folder_name),len(CF_bin)))\n",
    "bias_std_error_1km_050=np.empty((len(folder_name),len(CF_bin)))\n",
    "bias_std_error_1km_055=np.empty((len(folder_name),len(CF_bin)))\n",
    "bias_std_error_1km_040=np.empty((len(folder_name),len(CF_bin)))\n",
    "\n",
    "rmse_06=np.empty(( (len(folder_name)), (6) )) # 6 thresholds\n",
    "mae_06=np.empty(( (len(folder_name)), (6) )) # 6 thresholds\n",
    "bias_06=np.empty(( (len(folder_name)), (6) )) # 6 thresholds\n",
    "mean_06=np.empty(( (len(folder_name)), (7) )) # 6 thresholds+ceil\n"
   ]
  },
  {
   "cell_type": "code",
   "execution_count": 7,
   "metadata": {
    "tags": []
   },
   "outputs": [],
   "source": [
    "for mmm in np.arange(len(folder_name)):\n",
    "\n",
    "    \n",
    "    GOES_dir=f'./Data/'\n",
    "    \n",
    "    \n",
    "    GOES_filein=f'{GOES_dir}*{folder_name[mmm]}*.nc'\n",
    "    GOES_output_list=glob.glob(GOES_filein)\n",
    "    GOES_data = xr.open_dataset(GOES_output_list[0])\n",
    "    \n",
    "    time_5mins=GOES_data.time_5mins.values\n",
    "\n",
    "    \n",
    "    GOES_CF_035_5mins=GOES_data.GOES_CF_035_5mins.values\n",
    "    GOES_CF_040_5mins=GOES_data.GOES_CF_040_5mins.values \n",
    "    GOES_CF_045_5mins=GOES_data.GOES_CF_045_5mins.values \n",
    "    GOES_CF_050_5mins=GOES_data.GOES_CF_050_5mins.values\n",
    "    GOES_CF_055_5mins=GOES_data.GOES_CF_055_5mins.values\n",
    "    GOES_CF_060_5mins=GOES_data.GOES_CF_060_5mins.values\n",
    "\n",
    "    Ceil_CF_5mins=GOES_data.Ceil_CF_5mins.values\n",
    "    \n",
    "    ###Correction###\n",
    "    \n",
    "    GOES_CF_035_5mins_correct=np.empty_like(GOES_CF_035_5mins)*np.nan\n",
    "    GOES_CF_040_5mins_correct=np.empty_like(GOES_CF_040_5mins)*np.nan\n",
    "    GOES_CF_045_5mins_correct=np.empty_like(GOES_CF_045_5mins)*np.nan\n",
    "    GOES_CF_050_5mins_correct=np.empty_like(GOES_CF_050_5mins)*np.nan\n",
    "    GOES_CF_055_5mins_correct=np.empty_like(GOES_CF_055_5mins)*np.nan\n",
    "    GOES_CF_060_5mins_correct=np.empty_like(GOES_CF_060_5mins)*np.nan\n",
    "\n",
    "    #####\n",
    "    for i in np.arange(len(CF_bin)):\n",
    "\n",
    "        loc_bins=np.where( (Ceil_CF_5mins>(CF_bin[i]-CF_bin_width/2.) ) & (Ceil_CF_5mins<=(CF_bin[i]+CF_bin_width/2.) )  )   \n",
    "        \n",
    "        if loc_bins[0].shape[0]>0:\n",
    "\n",
    "            GOES_CF_035_5mins_correct[loc_bins]=GOES_CF_035_5mins[loc_bins]-corrections[i]\n",
    "            GOES_CF_040_5mins_correct[loc_bins]=GOES_CF_040_5mins[loc_bins]-corrections[i]        \n",
    "            GOES_CF_045_5mins_correct[loc_bins]=GOES_CF_045_5mins[loc_bins]-corrections[i]    \n",
    "            GOES_CF_050_5mins_correct[loc_bins]=GOES_CF_050_5mins[loc_bins]-corrections[i]\n",
    "            GOES_CF_055_5mins_correct[loc_bins]=GOES_CF_055_5mins[loc_bins]-corrections[i]    \n",
    "            GOES_CF_060_5mins_correct[loc_bins]=GOES_CF_060_5mins[loc_bins]-corrections[i]\n",
    "            \n",
    "            \n",
    "    GOES_CF_035_5mins_correct[GOES_CF_035_5mins_correct<0]=0         \n",
    "    GOES_CF_040_5mins_correct[GOES_CF_040_5mins_correct<0]=0    \n",
    "    GOES_CF_045_5mins_correct[GOES_CF_045_5mins_correct<0]=0    \n",
    "    GOES_CF_050_5mins_correct[GOES_CF_050_5mins_correct<0]=0    \n",
    "    GOES_CF_055_5mins_correct[GOES_CF_055_5mins_correct<0]=0    \n",
    "    GOES_CF_060_5mins_correct[GOES_CF_060_5mins_correct<0]=0    \n",
    "    \n",
    "    \n",
    "    GOES_CF_035_5mins_correct[GOES_CF_035_5mins_correct>1]=1         \n",
    "    GOES_CF_040_5mins_correct[GOES_CF_040_5mins_correct>1]=1    \n",
    "    GOES_CF_045_5mins_correct[GOES_CF_045_5mins_correct>1]=1    \n",
    "    GOES_CF_050_5mins_correct[GOES_CF_050_5mins_correct>1]=1    \n",
    "    GOES_CF_055_5mins_correct[GOES_CF_055_5mins_correct>1]=1    \n",
    "    GOES_CF_060_5mins_correct[GOES_CF_060_5mins_correct>1]=1             \n",
    "            \n",
    "    ####Do the average###\n",
    "    \n",
    "    GOES_hourly_CF_035=np.zeros( (cases,len(time_LT)) )*np.nan\n",
    "    GOES_hourly_CF_040=np.zeros( (cases,len(time_LT)) )*np.nan\n",
    "    GOES_hourly_CF_045=np.zeros( (cases,len(time_LT)) )*np.nan\n",
    "    GOES_hourly_CF_050=np.zeros( (cases,len(time_LT)) )*np.nan\n",
    "    GOES_hourly_CF_055=np.zeros( (cases,len(time_LT)) )*np.nan\n",
    "    GOES_hourly_CF_060=np.zeros( (cases,len(time_LT)) )*np.nan\n",
    "    Ceil_hourly_CF=np.zeros( (cases,len(time_LT)) )*np.nan    \n",
    "\n",
    "    \n",
    "    for j in np.arange(cases):\n",
    "\n",
    "        for i in np.arange(len(time_LT)):\n",
    "\n",
    "            loc=np.where(  (time_5mins>= (time_LT[i]-half_time_bin) ) & (time_5mins< (time_LT[i]+half_time_bin)  ) )\n",
    "\n",
    "            if loc[0].shape[0]>0:\n",
    "\n",
    "                GOES_hourly_CF_035[j,i]=np.nanmean(GOES_CF_035_5mins_correct[j,loc])\n",
    "                GOES_hourly_CF_040[j,i]=np.nanmean(GOES_CF_040_5mins_correct[j,loc])\n",
    "                GOES_hourly_CF_045[j,i]=np.nanmean(GOES_CF_045_5mins_correct[j,loc])            \n",
    "                GOES_hourly_CF_050[j,i]=np.nanmean(GOES_CF_050_5mins_correct[j,loc])\n",
    "                GOES_hourly_CF_055[j,i]=np.nanmean(GOES_CF_055_5mins_correct[j,loc])\n",
    "                GOES_hourly_CF_060[j,i]=np.nanmean(GOES_CF_060_5mins_correct[j,loc])            \n",
    "\n",
    "                Ceil_hourly_CF[j,i]=np.nanmean(Ceil_CF_5mins[j,loc])                \n",
    "\n",
    "\n",
    "                \n",
    "    ###Read in Cloud Base###\n",
    "    CB_mean_1hour=GOES_data.CB_mean_1hour.values\n",
    "\n",
    "\n",
    "    \n",
    "    ####Calculate the Bias###For Plot###\n",
    "    for i in np.arange(len(CF_bin)):\n",
    "\n",
    "\n",
    "        loc_bin_045=np.where( (GOES_hourly_CF_045>0) & (Ceil_hourly_CF > 0)  & (CB_mean_1hour>0) & (CB_mean_1hour<3) & \\\n",
    "                     ( Ceil_hourly_CF> (CF_bin[i]-CF_bin_width/2.)  ) & (Ceil_hourly_CF<= (CF_bin[i]+CF_bin_width/2.) ) )\n",
    "\n",
    "        loc_bin_050=np.where( (GOES_hourly_CF_050>0) & (Ceil_hourly_CF > 0)  & (CB_mean_1hour>0) & (CB_mean_1hour<3) & \\\n",
    "                     ( Ceil_hourly_CF> (CF_bin[i]-CF_bin_width/2.)  ) & (Ceil_hourly_CF<= (CF_bin[i]+CF_bin_width/2.) ) )\n",
    "\n",
    "        loc_bin_055=np.where( (GOES_hourly_CF_055>0) & (Ceil_hourly_CF > 0)  & (CB_mean_1hour>0) & (CB_mean_1hour<3) & \\\n",
    "                     ( Ceil_hourly_CF> (CF_bin[i]-CF_bin_width/2.)  ) & (Ceil_hourly_CF<= (CF_bin[i]+CF_bin_width/2.) ) )\n",
    "\n",
    "        loc_bin_040=np.where( (GOES_hourly_CF_040>0) & (Ceil_hourly_CF > 0)  & (CB_mean_1hour>0) & (CB_mean_1hour<3) & \\\n",
    "                     ( Ceil_hourly_CF> (CF_bin[i]-CF_bin_width/2.)  ) & (Ceil_hourly_CF<= (CF_bin[i]+CF_bin_width/2.) ) )\n",
    "\n",
    "        \n",
    "        ###Sample Number###\n",
    "        sample_045[mmm,i]=loc_bin_045[0].shape[0]\n",
    "        sample_050[mmm,i]=loc_bin_050[0].shape[0]\n",
    "        sample_055[mmm,i]=loc_bin_055[0].shape[0]\n",
    "        sample_040[mmm,i]=loc_bin_040[0].shape[0]\n",
    "\n",
    "        \n",
    "        #np.nanmean(b)-np.nanmean(a)\n",
    "        bias_1km_045[mmm,i]=np.nanmean( GOES_hourly_CF_045[loc_bin_045])-np.nanmean(Ceil_hourly_CF[loc_bin_045] )\n",
    "        bias_1km_050[mmm,i]=np.nanmean( GOES_hourly_CF_050[loc_bin_050])-np.nanmean(Ceil_hourly_CF[loc_bin_050] )\n",
    "        bias_1km_055[mmm,i]=np.nanmean( GOES_hourly_CF_055[loc_bin_055])-np.nanmean(Ceil_hourly_CF[loc_bin_055] )\n",
    "        bias_1km_040[mmm,i]=np.nanmean( GOES_hourly_CF_040[loc_bin_040])-np.nanmean(Ceil_hourly_CF[loc_bin_040] )\n",
    "\n",
    "        b=GOES_hourly_CF_045[loc_bin_045]-Ceil_hourly_CF[loc_bin_045]\n",
    "        bias_std_error_1km_045[mmm,i]=np.nanstd(b)/np.sqrt(len(b))\n",
    "\n",
    "        d=GOES_hourly_CF_050[loc_bin_050]-Ceil_hourly_CF[loc_bin_050]\n",
    "        bias_std_error_1km_050[mmm,i]=np.nanstd(d)/np.sqrt(len(d))\n",
    "\n",
    "        c=GOES_hourly_CF_055[loc_bin_055]-Ceil_hourly_CF[loc_bin_055]\n",
    "        bias_std_error_1km_055[mmm,i]=np.nanstd(c)/np.sqrt(len(c))\n",
    "\n",
    "        a=GOES_hourly_CF_040[loc_bin_040]-Ceil_hourly_CF[loc_bin_040]\n",
    "        bias_std_error_1km_040[mmm,i]=np.nanstd(a)/np.sqrt(len(a))\n",
    "        \n",
    "\n",
    "        #####\n",
    "        \n",
    "    rmse_06[mmm,0],rmse_06[mmm,1],rmse_06[mmm,2],rmse_06[mmm,3],rmse_06[mmm,4],rmse_06[mmm,5],\\\n",
    "    bias_06[mmm,0],bias_06[mmm,1],bias_06[mmm,2],bias_06[mmm,3],bias_06[mmm,4],bias_06[mmm,5],\\\n",
    "    mae_06[mmm,0],mae_06[mmm,1],mae_06[mmm,2],mae_06[mmm,3],mae_06[mmm,4],mae_06[mmm,5],\\\n",
    "    mean_06[mmm,0],mean_06[mmm,1],mean_06[mmm,2],mean_06[mmm,3],mean_06[mmm,4],mean_06[mmm,5],mean_06[mmm,6]\\\n",
    "    =input_cf_calculate_rmse_bias(Ceil_hourly_CF,0.6,GOES_hourly_CF_035,GOES_hourly_CF_040,GOES_hourly_CF_045,GOES_hourly_CF_050,GOES_hourly_CF_055,GOES_hourly_CF_060)\n",
    "\n",
    "    \n"
   ]
  },
  {
   "cell_type": "code",
   "execution_count": null,
   "metadata": {},
   "outputs": [],
   "source": []
  },
  {
   "cell_type": "code",
   "execution_count": null,
   "metadata": {
    "tags": []
   },
   "outputs": [],
   "source": []
  },
  {
   "cell_type": "code",
   "execution_count": null,
   "metadata": {},
   "outputs": [],
   "source": []
  },
  {
   "cell_type": "markdown",
   "metadata": {},
   "source": [
    "# Merging into 1 figure"
   ]
  },
  {
   "cell_type": "code",
   "execution_count": 8,
   "metadata": {
    "tags": []
   },
   "outputs": [],
   "source": [
    "mmm=2"
   ]
  },
  {
   "cell_type": "code",
   "execution_count": 9,
   "metadata": {},
   "outputs": [],
   "source": [
    "delta_R=np.array([0.035,0.040,0.045,0.05,0.055,0.06])"
   ]
  },
  {
   "cell_type": "code",
   "execution_count": 10,
   "metadata": {
    "tags": []
   },
   "outputs": [
    {
     "name": "stdout",
     "output_type": "stream",
     "text": [
      "142\n"
     ]
    },
    {
     "data": {
      "text/plain": [
       "Text(0.0, 1.0, '(c)')"
      ]
     },
     "execution_count": 10,
     "metadata": {},
     "output_type": "execute_result"
    },
    {
     "data": {
      "image/png": "[encoded data removed]",
      "text/plain": [
       "<Figure size 600x1200 with 4 Axes>"
      ]
     },
     "metadata": {
      "needs_background": "light"
     },
     "output_type": "display_data"
    }
   ],
   "source": [
    "mpl.rcParams['font.size'] = 20\n",
    "mpl.rcParams['font.weight'] = 'regular'\n",
    "mpl.rcParams['font.family'] = 'DejaVu Sans'\n",
    "fig = plt.figure(figsize=[10,20], dpi=60)\n",
    "\n",
    "gs = gridspec.GridSpec(4, 20)\n",
    "gs.update(wspace=0.5, hspace=0.3, top=0.91)\n",
    "\n",
    "ax6 = plt.subplot(gs[0,0:20])\n",
    "ax61 = plt.subplot(gs[1,0:20])\n",
    "ax4 = plt.subplot(gs[2:4,0:20])\n",
    "\n",
    "\n",
    "#####\n",
    "\n",
    "\n",
    "ax6.bar(CF_bin-0.01,bias_1km_045[mmm,:],yerr=bias_std_error_1km_045[mmm,:],color='grey',width=0.01, align='center')\n",
    "ax6.bar(CF_bin,bias_1km_050[mmm,:],yerr=bias_std_error_1km_050[mmm,:],color='red',width=0.01, align='center')\n",
    "ax6.bar(CF_bin+0.01,bias_1km_055[mmm,:],yerr=bias_std_error_1km_055[mmm,:],color='cyan',width=0.01, align='center')\n",
    "\n",
    "colors = {f'0.045':'grey', f'0.050':'red', f'0.055':'cyan'}   \n",
    "labels = list(colors.keys())\n",
    "handles = [plt.Rectangle((0,0),1,1, color=colors[label]) for label in labels]\n",
    "\n",
    "ax6.set_xlabel('Cloud Fraction from Ceilometer')\n",
    "ax6.set_ylabel('CF Bias')\n",
    "\n",
    "ax6.grid()\n",
    "ax6.axhline(y=0, color='grey', linestyle='-')\n",
    "\n",
    "ax6.legend(handles, labels,fontsize=16,loc='lower left')\n",
    "ax6.set_ylim(-0.25,0.25)\n",
    "ax6.set_yticks(np.arange(-0.25,0.35, 0.1))\n",
    "ax6.set_xlim(0.,0.6)\n",
    "ax6.set_title(f'(a)', loc='left')\n",
    "\n",
    "\n",
    "# Create a secondary y-axis for sample numbers\n",
    "ax6_right = ax6.twinx()\n",
    "ax6_right.plot(CF_bin[:6], sample_050[mmm, :6], '--',marker='o', color='black')\n",
    "ax6_right.set_ylim(0, 40)\n",
    "ax6_right.set_ylabel('Hours of Samples')\n",
    "ax6_right.grid(False) \n",
    "\n",
    "#####MAE####\n",
    "\n",
    "ax61.plot(delta_R[1:],mae_06[0,1:],'--',marker='o',color='red',label='1.75 km',linewidth=3,markersize=8)\n",
    "ax61.plot(delta_R[1:],mae_06[2,1:],'-o',color='red',label='2.00 km',linewidth=3,markersize=8)\n",
    "ax61.plot(delta_R[1:],mae_06[1,1:],'-.',marker='o',color='red',label='2.25 km',linewidth=3,markersize=8)\n",
    "ax61.set_xlabel(r'$\\Delta R$')\n",
    "ax61.set_ylabel('CF MAE')\n",
    "ax61.grid()\n",
    "ax61.legend(fontsize=20)\n",
    "ax61.set_title(f'(b)', loc='left')\n",
    "ax61.set_xticks(delta_R[1:])\n",
    "\n",
    "#####\n",
    "loc=np.where((CB_mean_1hour>0) & (CB_mean_1hour<3) & (Ceil_hourly_CF>0) & (GOES_hourly_CF_050>0) & (Ceil_hourly_CF<=0.6) & (GOES_hourly_CF_050<=0.6) )\n",
    "print(loc[0].shape[0])\n",
    "ax4.plot(Ceil_hourly_CF[loc],GOES_hourly_CF_050[loc],'o',color='red',markersize=8)\n",
    "ax4.plot([0, 1.0], [0, 1.0], color='grey')\n",
    "ax4.grid()\n",
    "ax4.set_xlim(0, 0.6)\n",
    "ax4.set_ylim(0, 0.6)\n",
    "ax4.set_xlabel('Ceilometer Hourly CF')\n",
    "ax4.set_ylabel('GOES Hourly CF')\n",
    "ax4.set_title(f'(c)', loc='left')\n",
    "#####\n",
    "\n",
    "#fig.savefig(f'./Figure_deltaR_bias_MAE_scatter.png', dpi=300, bbox_inches='tight') \n",
    "\n"
   ]
  },
  {
   "cell_type": "code",
   "execution_count": null,
   "metadata": {},
   "outputs": [],
   "source": []
  },
  {
   "cell_type": "code",
   "execution_count": null,
   "metadata": {},
   "outputs": [],
   "source": []
  },
  {
   "cell_type": "code",
   "execution_count": null,
   "metadata": {},
   "outputs": [],
   "source": []
  },
  {
   "cell_type": "code",
   "execution_count": null,
   "metadata": {},
   "outputs": [],
   "source": []
  }
 ],
 "metadata": {
  "kernelspec": {
   "display_name": "Python (myconda)",
   "language": "python",
   "name": "myconda"
  },
  "language_info": {
   "codemirror_mode": {
    "name": "ipython",
    "version": 3
   },
   "file_extension": ".py",
   "mimetype": "text/x-python",
   "name": "python",
   "nbconvert_exporter": "python",
   "pygments_lexer": "ipython3",
   "version": "3.8.5"
  }
 },
 "nbformat": 4,
 "nbformat_minor": 4
}
